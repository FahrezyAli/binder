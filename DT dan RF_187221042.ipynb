{
  "metadata": {
    "kernelspec": {
      "name": "python",
      "display_name": "Python (Pyodide)",
      "language": "python"
    },
    "language_info": {
      "codemirror_mode": {
        "name": "python",
        "version": 3
      },
      "file_extension": ".py",
      "mimetype": "text/x-python",
      "name": "python",
      "nbconvert_exporter": "python",
      "pygments_lexer": "ipython3",
      "version": "3.8"
    }
  },
  "nbformat_minor": 4,
  "nbformat": 4,
  "cells": [
    {
      "cell_type": "markdown",
      "source": "# Feature Selection\nNama : Ali Ahmad Fahrezy \\\nNIM  : 187221042",
      "metadata": {}
    },
    {
      "cell_type": "markdown",
      "source": "## Library",
      "metadata": {}
    },
    {
      "cell_type": "code",
      "source": "# Libraries\n# For JupyterLite\n%pip install seaborn openpyxl\nimport numpy as np\nimport pandas as pd\nimport seaborn as sns\nfrom sklearn import datasets\nfrom sklearn.metrics import classification_report\nfrom sklearn.metrics import confusion_matrix\nfrom sklearn.metrics import accuracy_score, precision_score, recall_score, f1_score\nfrom sklearn.naive_bayes import GaussianNB\nfrom sklearn.model_selection import train_test_split\nimport sklearn.metrics\nfrom sklearn.ensemble import RandomForestClassifier, RandomForestRegressor\nfrom collections import Counter\nimport matplotlib.pyplot as plt\nimport matplotlib.colors as colors\nimport sklearn.model_selection as model_selection\nfrom sklearn.metrics import (\n    confusion_matrix,\n    accuracy_score,\n    f1_score,\n    ConfusionMatrixDisplay,\n    classification_report,\n)\nfrom sklearn.tree import DecisionTreeClassifier, plot_tree",
      "metadata": {
        "trusted": true
      },
      "outputs": [],
      "execution_count": 14
    },
    {
      "cell_type": "markdown",
      "source": "## Data",
      "metadata": {}
    },
    {
      "cell_type": "code",
      "source": "# Data\ndataframe = pd.read_excel(\"BlaBla.xlsx\")\ndata = dataframe[[\"A\", \"B\", \"C\", \"D\", \"E\", \"F\", \"G\", \"H\", \"I\", \"J\", \"K\", \"L\", \"M\", \"N\"]]\n\nprint(\"Data Awal\".center(75, \"=\"))\nprint(data)\nprint(\"=========================================================\")",
      "metadata": {
        "trusted": true
      },
      "outputs": [
        {
          "name": "stdout",
          "text": "=================================Data Awal=================================\n      A  B  C  D  E  F  G  H  I  J  K  L  M  N\n0     1  0  1  0  0  0  0  0  1  0  0  0  1  0\n1     5  0  0  0  0  0  0  0  1  1  1  0  1  1\n2     3  0  0  0  0  0  1  0  0  0  0  0  1  0\n3     5  0  0  0  0  0  0  0  0  1  0  0  1  0\n4     3  0  0  0  0  0  1  0  0  0  1  0  1  0\n...  .. .. .. .. .. .. .. .. .. .. .. .. .. ..\n2303  2  0  0  1  0  0  0  1  0  1  1  1  1  1\n2304  1  1  0  1  0  0  0  0  1  0  0  0  1  1\n2305  1  0  0  1  0  0  0  0  0  1  1  1  1  1\n2306  4  0  0  0  0  0  0  0  1  0  1  1  1  1\n2307  1  0  0  0  0  0  0  1  0  0  1  0  1  1\n\n[2308 rows x 14 columns]\n=========================================================\n",
          "output_type": "stream"
        }
      ],
      "execution_count": 15
    },
    {
      "cell_type": "markdown",
      "source": "## Random Forest\nMembagi data menjadi dua bagian fitur data (data Variabel) dan data target (data kelas\natau sebagai hasil akhir keputusan)",
      "metadata": {}
    },
    {
      "cell_type": "code",
      "source": "# Grouping\nprint(\"Grouping Variabel\".center(75, \"=\"))\nX = data.iloc[:, 0:13].values\ny = data.iloc[:, 13].values\nprint(\"Data Variabel\".center(75, \"=\"))\nprint(X)\nprint(\"Data Kelas\".center(75, \"=\"))\nprint(y)",
      "metadata": {
        "trusted": true
      },
      "outputs": [
        {
          "name": "stdout",
          "text": "=============================Grouping Variabel=============================\n===============================Data Variabel===============================\n[[1 0 1 ... 0 0 1]\n [5 0 0 ... 1 0 1]\n [3 0 0 ... 0 0 1]\n ...\n [1 0 0 ... 1 1 1]\n [4 0 0 ... 1 1 1]\n [1 0 0 ... 1 0 1]]\n=================================Data Kelas================================\n[0 1 0 ... 1 1 1]\n",
          "output_type": "stream"
        }
      ],
      "execution_count": 16
    },
    {
      "cell_type": "markdown",
      "source": "Membagi data lagi menjadi 2 bagian yaitu data untuk training dan juga testing, dalam hal\nini menggunakan proporsi 80% data training dan 20% data testing. Lalu sampel diambil\nsecara acak.",
      "metadata": {}
    },
    {
      "cell_type": "code",
      "source": "# Training dan Testing\nprint(\"Splitting Data 20-80\".center(75, \"=\"))\nX_train, X_test, y_train, y_test = train_test_split(X, y, test_size=0.2, random_state=0)\nprint(\"Instance variabel data training\".center(75, \"=\"))\nprint(X_train)\nprint(\"Instance kelas data training\".center(75, \"=\"))\nprint(y_train)\nprint(\"Instance variabel data testing\".center(75, \"=\"))\nprint(X_test)\nprint(\"Instance data testing\".center(75, \"=\"))\nprint(y_test)\nprint()",
      "metadata": {
        "trusted": true
      },
      "outputs": [
        {
          "name": "stdout",
          "text": "============================Splitting Data 20-80===========================\n======================Instance variabel data training======================\n[[3 0 0 ... 1 0 1]\n [3 0 0 ... 0 0 1]\n [1 0 0 ... 0 0 1]\n ...\n [1 1 0 ... 0 0 1]\n [1 1 0 ... 0 0 1]\n [4 0 0 ... 1 0 1]]\n========================Instance kelas data training=======================\n[1 0 0 ... 0 0 0]\n=======================Instance variabel data testing======================\n[[5 0 0 ... 0 0 1]\n [1 0 0 ... 1 0 1]\n [1 0 0 ... 1 0 1]\n ...\n [2 0 0 ... 1 1 1]\n [1 1 0 ... 0 0 1]\n [4 0 0 ... 0 0 1]]\n===========================Instance data testing===========================\n[0 1 1 0 0 0 0 1 1 0 0 0 0 0 1 0 0 0 1 0 0 1 1 1 0 0 1 0 1 0 0 1 0 0 0 0 0\n 0 1 0 1 0 0 0 0 0 0 1 1 0 1 0 0 0 1 0 0 0 0 0 0 0 1 0 0 1 0 0 0 0 1 0 1 1\n 0 0 0 1 1 0 0 1 1 0 0 1 0 0 0 1 1 0 0 0 1 1 0 0 0 0 0 1 0 0 0 0 1 0 1 0 1\n 0 0 0 0 0 0 0 0 1 1 1 0 0 1 0 0 1 0 1 0 1 1 0 1 0 1 1 0 0 0 0 0 0 0 1 0 0\n 0 0 0 0 0 0 1 1 0 0 0 1 0 0 1 0 0 1 1 0 0 0 0 1 0 0 0 0 1 0 0 1 0 0 0 1 0\n 0 1 1 0 0 1 0 0 0 0 0 0 0 0 0 1 0 0 0 0 1 0 1 1 1 0 0 0 0 1 0 1 0 1 1 0 0\n 0 1 0 0 0 1 0 0 0 1 0 1 1 0 1 0 0 0 1 1 1 0 0 0 0 0 1 0 0 1 1 0 0 1 1 1 0\n 0 1 1 0 0 0 0 0 0 0 0 0 0 0 1 1 0 0 0 0 0 0 1 0 0 0 0 0 0 1 0 0 0 1 0 0 1\n 0 1 0 0 0 1 0 0 0 1 1 0 0 0 0 0 0 1 1 0 0 0 0 1 0 1 0 1 1 1 0 0 0 0 0 0 0\n 1 0 0 0 0 0 0 0 1 1 0 0 0 0 0 0 1 0 1 0 0 1 1 0 1 0 0 0 1 1 0 1 0 1 0 1 1\n 0 0 0 0 0 0 0 0 1 1 1 0 0 0 0 0 1 0 0 1 0 0 0 1 1 1 0 0 1 1 0 0 0 1 0 0 0\n 1 1 0 0 1 1 0 0 0 1 0 0 1 1 1 0 0 0 0 1 0 0 1 0 1 1 0 0 0 0 0 0 1 0 1 0 0\n 1 0 0 0 1 0 0 0 0 0 1 0 0 0 0 1 0 0]\n\n",
          "output_type": "stream"
        }
      ],
      "execution_count": 17
    },
    {
      "cell_type": "markdown",
      "source": "Melatih dengan metode random forest menggunakan training data, setelah itu melakukan\ntes model dengan data testing dan hasil testing ditampilkan pada console.",
      "metadata": {}
    },
    {
      "cell_type": "code",
      "source": "# Random Forest\nrandom_forest = RandomForestClassifier(random_state=0)\nrandom_forest.fit(X_train, y_train)\n\n# Prediksi Random Forest\nprint(\"Instance prediksi random forest : \")\nY_pred = random_forest.predict(X_test)\nprint(Y_pred)\nprint(\"===================================================\")\nprint()",
      "metadata": {
        "trusted": true
      },
      "outputs": [
        {
          "name": "stdout",
          "text": "Instance prediksi random forest : \n[0 0 1 0 0 0 0 1 1 0 0 0 0 0 1 0 0 0 1 0 0 1 1 1 0 0 1 0 1 0 0 1 0 0 0 0 0\n 0 1 0 1 0 0 0 0 0 0 0 1 0 1 0 0 0 1 0 0 0 0 0 0 0 0 0 0 1 0 0 0 0 1 0 1 1\n 0 0 0 1 1 0 0 1 1 0 0 1 0 0 0 1 0 0 0 0 1 1 0 0 0 0 0 0 0 0 0 0 1 0 1 0 1\n 0 0 0 0 0 0 1 0 1 1 1 0 0 1 0 0 1 0 0 0 1 1 0 1 0 1 1 0 0 0 0 0 0 0 1 0 0\n 0 0 0 0 0 0 1 1 0 0 0 1 0 0 1 0 0 1 1 0 0 1 0 1 0 0 0 0 1 0 0 1 0 0 0 1 0\n 0 1 1 0 0 1 0 0 0 0 0 0 0 0 0 1 0 0 0 0 1 0 1 1 1 0 0 0 0 1 0 1 0 1 1 0 0\n 0 1 0 0 0 1 0 0 0 1 0 1 1 0 1 0 0 0 1 1 1 0 0 0 0 0 1 0 0 1 1 0 0 1 1 1 0\n 0 1 1 0 0 0 0 0 0 0 0 0 0 0 1 1 0 0 0 0 0 0 1 0 0 0 0 0 0 1 0 0 0 1 0 0 0\n 0 1 0 0 0 1 0 0 0 1 1 0 0 0 0 0 0 0 1 0 0 0 0 1 0 1 0 1 1 1 0 0 0 0 0 0 0\n 1 0 0 0 0 0 0 0 1 1 0 0 0 0 0 0 1 0 0 0 0 1 1 0 1 0 0 0 1 1 0 1 0 1 0 1 1\n 0 0 0 0 0 0 0 0 1 1 1 0 0 0 0 0 0 0 0 1 0 0 0 1 1 0 0 0 1 1 0 0 0 1 0 0 0\n 0 1 0 0 1 1 0 0 0 1 0 0 1 1 1 0 0 0 0 1 0 0 1 0 0 1 0 0 0 0 0 0 1 0 0 0 0\n 1 0 0 0 1 0 0 0 0 0 0 0 0 0 0 1 0 0]\n===================================================\n\n",
          "output_type": "stream"
        }
      ],
      "execution_count": 19
    },
    {
      "cell_type": "markdown",
      "source": "Menghitung akurasi dan juga report dari hasil training dan testing tersebut.",
      "metadata": {}
    },
    {
      "cell_type": "code",
      "source": "# %% Prediksi Awal\naccuracy = round(accuracy_score(y_test, Y_pred) * 100, 2)\nprint(\"Akurasi: \", accuracy, \"%\")\n\n# Display Classification Report\nprint(\"Classfication Report Random Forest\".center(75, \"=\"))\nprint(classification_report(y_test, Y_pred))\n\n# Display Confusion Matrix\ncm = confusion_matrix(y_test, Y_pred)\nprint(\"Confusion Matrix: \")\nprint(cm)",
      "metadata": {
        "trusted": true
      },
      "outputs": [
        {
          "name": "stdout",
          "text": "Akurasi:  96.32 %\n=====================Classfication Report Random Forest====================\n              precision    recall  f1-score   support\n\n           0       0.95      0.99      0.97       315\n           1       0.99      0.90      0.94       147\n\n    accuracy                           0.96       462\n   macro avg       0.97      0.95      0.96       462\nweighted avg       0.96      0.96      0.96       462\n\nConfusion Matrix: \n[[313   2]\n [ 15 132]]\n",
          "output_type": "stream"
        }
      ],
      "execution_count": 20
    },
    {
      "cell_type": "markdown",
      "source": "Melakukan percobaan dengan input data.",
      "metadata": {}
    },
    {
      "cell_type": "code",
      "source": "# %% Klasifikasi\nprint(\" INPUT CONTOH \".center(75, \"=\"))\nA = await input(\"Age: \")\nA = int(A)\nprint(\"Jenis Kelamin 0 = Perempuan, 1 = Laki-laki\")\nB = await input(\"Jenis Kelamin: \")\nB = int(B)\nprint(\"Y = Yes. N = No\")\nC = input(\"Apakah pasien mengalami C? : \")\nD = input(\"Apakah pasien mengalami D? : \")\nE = input(\"Apakah pasien mengalami E? : \")\nF = input(\"Apakah pasien mengalami F? : \")\nG = input(\"Apakah pasien mengalami G? : \")\nH = input(\"Apakah pasien mengalami H? : \")\nI = input(\"Apakah pasien mengalami I? : \")\nJ = input(\"Apakah pasien mengalami J? : \")\nK = input(\"Apakah pasien mengalami K? : \")\nL = input(\"Apakah pasien mengalami L? : \")\nM = input(\"Apakah M? : \")\n\numur_k = 0\nA_k = 0\nB_k = 0\n\nif A < 21:\n    A_k = 1\nif A > 20 and A < 31:\n    A_k = 2\nif A > 30 and A < 41:\n    A_k = 3\nif A > 40 and A < 51:\n    A_k = 4\nif A > 50:\n    A_k = 5\nprint(\"Kode umur pasien: \", A_k)\n\nif B == 0:\n    B_k = 0\nelse:\n    B_k = 1\n\nif C == \"Y\":\n    C = 1\nelse:\n    C = 0\n\nif D == \"Y\":\n    D = 1\nelse:\n    D = 0\n\nif E == \"Y\":\n    E = 1\nelse:\n    E = 0\n\nif F == \"Y\":\n    F = 1\nelse:\n    F = 0\n\nif G == \"Y\":\n    G = 1\nelse:\n    G = 0\n\nif H == \"Y\":\n    H = 1\nelse:\n    H = 0\n\nif I == \"Y\":\n    I = 1\nelse:\n    I = 0\n\nif J == \"Y\":\n    J = 1\nelse:\n    J = 0\n\nif K == \"Y\":\n    K = 1\nelse:\n    K = 0\n\nif L == \"Y\":\n    L = 1\nelse:\n    L = 0\n\nif M == \"Y\":\n    M = 1\nelse:\n    M = 0\n\nTrain = [A_k, B_k, C, D, E, F, G, H, I, J, K, L, M]\nprint(Train)\n\ntest = pd.DataFrame(Train).T\npredtest = random_forest.predict(test)\n\nif predtest == 1:\n    print(\"Pasien positif\")\nelse:\n    print(\"Pasien negative\")\n\n# Visualisasi Decision Tree\nplt.figure(figsize=(20, 10))\nplot_tree(random_forest.estimators_[0], filled=True)\nplt.show()\n",
      "metadata": {
        "trusted": true
      },
      "outputs": [
        {
          "name": "stdout",
          "text": "=============================== INPUT CONTOH ==============================\n",
          "output_type": "stream"
        },
        {
          "output_type": "stream",
          "name": "stdin",
          "text": "Age:  20\n"
        }
      ],
      "execution_count": null
    },
    {
      "cell_type": "code",
      "source": "",
      "metadata": {
        "trusted": true
      },
      "outputs": [],
      "execution_count": null
    }
  ]
}